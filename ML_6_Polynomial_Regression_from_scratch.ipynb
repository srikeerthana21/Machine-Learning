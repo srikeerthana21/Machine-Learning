{
  "nbformat": 4,
  "nbformat_minor": 0,
  "metadata": {
    "colab": {
      "provenance": [],
      "include_colab_link": true
    },
    "kernelspec": {
      "name": "python3",
      "display_name": "Python 3"
    },
    "language_info": {
      "name": "python"
    }
  },
  "cells": [
    {
      "cell_type": "markdown",
      "metadata": {
        "id": "view-in-github",
        "colab_type": "text"
      },
      "source": [
        "<a href=\"https://colab.research.google.com/github/srikeerthana21/Machine-Learning/blob/main/ML_6_Polynomial_Regression_from_scratch.ipynb\" target=\"_parent\"><img src=\"https://colab.research.google.com/assets/colab-badge.svg\" alt=\"Open In Colab\"/></a>"
      ]
    },
    {
      "cell_type": "code",
      "execution_count": null,
      "metadata": {
        "id": "V9QNneEX0dtq"
      },
      "outputs": [],
      "source": [
        "# Linear regression - linear relationship of dependent and independent variable\n",
        "# Non Linear regression -non linear relationship of dependent and independent variable"
      ]
    },
    {
      "cell_type": "code",
      "source": [
        "# polynomial\n",
        "# linear - polynomial with degree 1\n",
        "# quadratic - polynomial with degree 2\n",
        "# cubic - polynomial with degree 3"
      ],
      "metadata": {
        "id": "ECLbVe0f34tb"
      },
      "execution_count": null,
      "outputs": []
    },
    {
      "cell_type": "code",
      "source": [
        "# degree of order that we use is hyperparameter\n",
        "# inorder to train a model the data given is parameter"
      ],
      "metadata": {
        "id": "5jxjcP584_93"
      },
      "execution_count": null,
      "outputs": []
    },
    {
      "cell_type": "code",
      "source": [
        "# to select the highest degree we use forward and backward selection\n",
        "# forward selection - increase the degree parameter until we get optimal result\n",
        "# reverse selection - decrease the degree parameter until we get optimal result"
      ],
      "metadata": {
        "id": "ktXTLin25wTN"
      },
      "execution_count": null,
      "outputs": []
    },
    {
      "cell_type": "code",
      "source": [
        "# why polynomial regression called polynomial linear regression?\n",
        "# we convert a polynomial to linear regression"
      ],
      "metadata": {
        "id": "8cq2rPEh6IDf"
      },
      "execution_count": null,
      "outputs": []
    },
    {
      "cell_type": "code",
      "source": [
        "# simple linear regression - degree of 1 with 1 independent variable\n",
        "# multi linear regression - degree of 1 with many independent variable\n",
        "# polynomial linear regression - degree of many power with many independent variable"
      ],
      "metadata": {
        "id": "FPwIsWpE6Znf"
      },
      "execution_count": null,
      "outputs": []
    },
    {
      "cell_type": "code",
      "source": [
        "# if we increase the degree more higher then it becomes the over fitting of the model\n",
        "# in testing we get the correct value but in plotting we don't"
      ],
      "metadata": {
        "id": "4UmOOwkE6ywL"
      },
      "execution_count": null,
      "outputs": []
    },
    {
      "cell_type": "code",
      "source": [
        "# Loss and cost funtion\n",
        "# Loss functin - error calculation and procedure for single data\n",
        "# Cost functin - error calculation and procedure for whole data"
      ],
      "metadata": {
        "id": "PEE4nGDE7WTB"
      },
      "execution_count": null,
      "outputs": []
    },
    {
      "cell_type": "code",
      "source": [
        "# Bias Variance Trade-off\n",
        "# Bias - error(expected~predicted)(caluculated with simple features)\n",
        "# variance - fluctuations in data as well noise (on accordance with mean how data far away)(calculated with complex variable which the get overfitted as model learns too much from traning data)"
      ],
      "metadata": {
        "id": "6VHOpCfI8hwe"
      },
      "execution_count": null,
      "outputs": []
    },
    {
      "cell_type": "code",
      "source": [
        "import numpy as np\n",
        "import matplotlib.pyplot as plt"
      ],
      "metadata": {
        "id": "Vvn0TTJV82Tt"
      },
      "execution_count": null,
      "outputs": []
    },
    {
      "cell_type": "code",
      "source": [
        "x=np.array([1,2,3,4,5])\n",
        "y=np.array([2.1,3.8,6.5,9.2,11.3])\n",
        "degree = 2"
      ],
      "metadata": {
        "id": "ONAzwskNAUvW"
      },
      "execution_count": null,
      "outputs": []
    },
    {
      "cell_type": "code",
      "source": [
        "# design matrix\n",
        "x_poly=np.column_stack([x**i for i in range(degree+1)])\n",
        "x_poly"
      ],
      "metadata": {
        "colab": {
          "base_uri": "https://localhost:8080/"
        },
        "id": "xokU_KnOAkU3",
        "outputId": "97b96148-cd8e-4ab5-bddc-f2f31d558039"
      },
      "execution_count": null,
      "outputs": [
        {
          "output_type": "execute_result",
          "data": {
            "text/plain": [
              "array([[ 1,  1,  1],\n",
              "       [ 1,  2,  4],\n",
              "       [ 1,  3,  9],\n",
              "       [ 1,  4, 16],\n",
              "       [ 1,  5, 25]])"
            ]
          },
          "metadata": {},
          "execution_count": 55
        }
      ]
    },
    {
      "cell_type": "code",
      "source": [
        "# always initialize the weights value as 0\n",
        "weights=np.zeros(degree+1)\n",
        "weights"
      ],
      "metadata": {
        "colab": {
          "base_uri": "https://localhost:8080/"
        },
        "id": "tQXgebIvA88P",
        "outputId": "eb595fdb-e083-4902-c145-4f68c2d6f4d8"
      },
      "execution_count": null,
      "outputs": [
        {
          "output_type": "execute_result",
          "data": {
            "text/plain": [
              "array([0., 0., 0.])"
            ]
          },
          "metadata": {},
          "execution_count": 56
        }
      ]
    },
    {
      "cell_type": "code",
      "source": [
        "# learning rate - lr - default for all neural networks as 0.001\n",
        "# epochs - number of iterations\n",
        "lr = 0.001\n",
        "epochs = 10000"
      ],
      "metadata": {
        "id": "iIyaUhVUCCEV"
      },
      "execution_count": null,
      "outputs": []
    },
    {
      "cell_type": "code",
      "source": [
        "for i in range(epochs):\n",
        "  # to caluculate predictions\n",
        "  predictions = np.dot(x_poly,weights)\n",
        "  # to calculate error\n",
        "  error = predictions - y\n",
        "  # update the weights (co-efficients) using gradient descent\n",
        "  # matrix.T - transpose of the matrix\n",
        "  gradient = np.dot(x_poly.T,error)/(len(x))\n",
        "  weights = weights - lr * gradient\n",
        "  #print(i,weights)-> prints output for all iterations so\n",
        "  if(i%1000==0):\n",
        "   print(\"weights for iteration\",i,weights)"
      ],
      "metadata": {
        "colab": {
          "base_uri": "https://localhost:8080/"
        },
        "id": "9dQNHR6VC_tl",
        "outputId": "1c57b554-0b6b-48c6-f1ea-df38d7402f22"
      },
      "execution_count": null,
      "outputs": [
        {
          "output_type": "stream",
          "name": "stdout",
          "text": [
            "weights for iteration 0 [0.00658 0.0245  0.1011 ]\n",
            "weights for iteration 1000 [0.54328115 0.8316681  0.29527936]\n",
            "weights for iteration 2000 [0.72159237 1.11770248 0.21916409]\n",
            "weights for iteration 3000 [0.77245208 1.23925546 0.18823367]\n",
            "weights for iteration 4000 [0.77529557 1.29788388 0.17454715]\n",
            "weights for iteration 5000 [0.76032886 1.33223199 0.16747366]\n",
            "weights for iteration 6000 [0.73903037 1.35701039 0.16296753]\n",
            "weights for iteration 7000 [0.71575448 1.37782452 0.15948826]\n",
            "weights for iteration 8000 [0.69214578 1.39681575 0.15644841]\n",
            "weights for iteration 9000 [0.66881831 1.41480743 0.15362317]\n"
          ]
        }
      ]
    },
    {
      "cell_type": "code",
      "source": [
        "def predict(x,weights):\n",
        "  x_poly = np.array([x**i for i in range(degree+1)])\n",
        "  return np.dot(x_poly,weights)"
      ],
      "metadata": {
        "id": "NopNPVr5Hklt"
      },
      "execution_count": null,
      "outputs": []
    },
    {
      "cell_type": "code",
      "source": [
        "plt.scatter(x,y,label='Data points')\n",
        "x_range = np.linspace(min(x),max(x),100)\n",
        "y_predict=[predict(x,weights) for x in x_range]\n",
        "plt.plot(x_range,y_predict,color='r',label=\"Polynomial regression\")\n",
        "plt.xlabel('X')\n",
        "plt.ylabel('Y')\n",
        "plt.legend()\n",
        "plt.show()"
      ],
      "metadata": {
        "colab": {
          "base_uri": "https://localhost:8080/",
          "height": 453
        },
        "id": "8NRGvnp0H1zS",
        "outputId": "05ba6bc4-609e-4d6d-ed44-fd9a288ee045"
      },
      "execution_count": null,
      "outputs": [
        {
          "output_type": "display_data",
          "data": {
            "text/plain": [
              "<Figure size 640x480 with 1 Axes>"
            ],
            "image/png": "[encoded data removed]"
          },
          "metadata": {}
        }
      ]
    },
    {
      "cell_type": "code",
      "source": [],
      "metadata": {
        "id": "LFnbhIDoKE6l"
      },
      "execution_count": null,
      "outputs": []
    }
  ]
}